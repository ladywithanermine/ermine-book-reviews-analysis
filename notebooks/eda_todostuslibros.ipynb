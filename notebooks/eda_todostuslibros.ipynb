{
 "cells": [
  {
   "cell_type": "markdown",
   "id": "7ab1e302-8a1e-4eda-bd78-f40e45b2d3a4",
   "metadata": {},
   "source": [
    "# Exploratory data analysis of todostuslibros.com book data"
   ]
  },
  {
   "cell_type": "markdown",
   "id": "61837c2d-5dca-47e6-8078-25c3cc1e1790",
   "metadata": {},
   "source": [
    "This notebooks reads scraped book data from the site www.todostuslibros.com and performs an exploratory data analysis of the available variables. "
   ]
  },
  {
   "cell_type": "markdown",
   "id": "6a0f8899-b23e-468f-bfcc-94c19944d8c8",
   "metadata": {},
   "source": [
    "## Imports"
   ]
  },
  {
   "cell_type": "code",
   "execution_count": 156,
   "id": "5d56f31b-fe9d-4b39-8567-94e159295a14",
   "metadata": {},
   "outputs": [],
   "source": [
    "import pandas as pd\n",
    "from datetime import datetime\n",
    "import re\n",
    "\n",
    "from matplotlib import pyplot as plt\n",
    "import seaborn as sns\n",
    "sns.set_style(\"white\")\n",
    "%matplotlib inline"
   ]
  },
  {
   "cell_type": "markdown",
   "id": "a0ed192f-3b9c-4c8f-aa8b-43c50b479906",
   "metadata": {},
   "source": [
    "## Read the data"
   ]
  },
  {
   "cell_type": "code",
   "execution_count": 142,
   "id": "36acb02b-1a97-40b9-b6c1-20a971c001f3",
   "metadata": {},
   "outputs": [],
   "source": [
    "data_path = '../data/todostuslibros_ficcion_moderna_20210623.json'"
   ]
  },
  {
   "cell_type": "code",
   "execution_count": 143,
   "id": "9496e9d3-221e-4ddf-a5b8-9cd2bac4b0a9",
   "metadata": {},
   "outputs": [
    {
     "data": {
      "text/html": [
       "<div>\n",
       "<style scoped>\n",
       "    .dataframe tbody tr th:only-of-type {\n",
       "        vertical-align: middle;\n",
       "    }\n",
       "\n",
       "    .dataframe tbody tr th {\n",
       "        vertical-align: top;\n",
       "    }\n",
       "\n",
       "    .dataframe thead th {\n",
       "        text-align: right;\n",
       "    }\n",
       "</style>\n",
       "<table border=\"1\" class=\"dataframe\">\n",
       "  <thead>\n",
       "    <tr style=\"text-align: right;\">\n",
       "      <th></th>\n",
       "      <th>title</th>\n",
       "      <th>author</th>\n",
       "      <th>publisher</th>\n",
       "      <th>isbn</th>\n",
       "      <th>price</th>\n",
       "      <th>binding</th>\n",
       "      <th>publishing_country</th>\n",
       "      <th>publishing_language</th>\n",
       "      <th>original_language</th>\n",
       "      <th>ean</th>\n",
       "      <th>publication_date</th>\n",
       "      <th>num_pages</th>\n",
       "      <th>img_url</th>\n",
       "      <th>tags</th>\n",
       "      <th>bookstores_number</th>\n",
       "    </tr>\n",
       "  </thead>\n",
       "  <tbody>\n",
       "    <tr>\n",
       "      <th>0</th>\n",
       "      <td>Estrellas negras</td>\n",
       "      <td>Kapuscinski, Ryszard</td>\n",
       "      <td>Editorial Anagrama</td>\n",
       "      <td>9788433936929</td>\n",
       "      <td>NaN</td>\n",
       "      <td>Libro electrónico</td>\n",
       "      <td>España</td>\n",
       "      <td>Español</td>\n",
       "      <td>Polish</td>\n",
       "      <td>9788433936929</td>\n",
       "      <td>17-02-2016</td>\n",
       "      <td>224.0</td>\n",
       "      <td>https://static.cegal.es/imagenes/marcadas/9788...</td>\n",
       "      <td>[Ficción moderna y contemporanea]</td>\n",
       "      <td>0</td>\n",
       "    </tr>\n",
       "    <tr>\n",
       "      <th>1</th>\n",
       "      <td>Locos de cine y otros relatos</td>\n",
       "      <td>Pérez Rubio, Pablo</td>\n",
       "      <td>Editorial la Fragua del Trovador</td>\n",
       "      <td>9788415044758</td>\n",
       "      <td>NaN</td>\n",
       "      <td>Tapa blanda o Bolsillo</td>\n",
       "      <td>España</td>\n",
       "      <td>Español</td>\n",
       "      <td>Español</td>\n",
       "      <td>9788415044758</td>\n",
       "      <td>25-03-2017</td>\n",
       "      <td>176.0</td>\n",
       "      <td>None</td>\n",
       "      <td>[Ficción moderna y contemporanea]</td>\n",
       "      <td>0</td>\n",
       "    </tr>\n",
       "    <tr>\n",
       "      <th>2</th>\n",
       "      <td>Pasiones romanas</td>\n",
       "      <td>Janer, Maria de la Pau</td>\n",
       "      <td>Editorial Planeta</td>\n",
       "      <td>9788408063117</td>\n",
       "      <td>21.00</td>\n",
       "      <td>Cartoné</td>\n",
       "      <td>España</td>\n",
       "      <td>Español</td>\n",
       "      <td>Español</td>\n",
       "      <td>9788408063117</td>\n",
       "      <td>08-11-2005</td>\n",
       "      <td>452.0</td>\n",
       "      <td>https://static.cegal.es/imagenes/marcadas/9788...</td>\n",
       "      <td>[Ficción moderna y contemporanea]</td>\n",
       "      <td>9</td>\n",
       "    </tr>\n",
       "    <tr>\n",
       "      <th>3</th>\n",
       "      <td>Los 7 soles de la felicidad</td>\n",
       "      <td>Sanz Cañas, Esther</td>\n",
       "      <td>Umbriel</td>\n",
       "      <td>9788489367920</td>\n",
       "      <td>5.95</td>\n",
       "      <td>Tapa blanda o Bolsillo</td>\n",
       "      <td>España</td>\n",
       "      <td>Español</td>\n",
       "      <td></td>\n",
       "      <td>9788489367920</td>\n",
       "      <td>07-02-2011</td>\n",
       "      <td>288.0</td>\n",
       "      <td>https://static.cegal.es/imagenes/marcadas/9788...</td>\n",
       "      <td>[Ficción moderna y contemporanea]</td>\n",
       "      <td>1</td>\n",
       "    </tr>\n",
       "    <tr>\n",
       "      <th>4</th>\n",
       "      <td>Pack don Quijote + invitación al Quijote</td>\n",
       "      <td>AA. VV.</td>\n",
       "      <td>Lunwerg Editores</td>\n",
       "      <td>9788497851756</td>\n",
       "      <td>9.95</td>\n",
       "      <td>Cartoné</td>\n",
       "      <td>España</td>\n",
       "      <td>Español</td>\n",
       "      <td></td>\n",
       "      <td>9788497851756</td>\n",
       "      <td>29-05-2007</td>\n",
       "      <td>1544.0</td>\n",
       "      <td>https://static.cegal.es/imagenes/marcadas/9788...</td>\n",
       "      <td>[Ficción moderna y contemporanea, Ficción clás...</td>\n",
       "      <td>0</td>\n",
       "    </tr>\n",
       "    <tr>\n",
       "      <th>5</th>\n",
       "      <td>Confesión general</td>\n",
       "      <td>Conget, José María</td>\n",
       "      <td>Editorial Pre-Textos</td>\n",
       "      <td>9788416906390</td>\n",
       "      <td>20.00</td>\n",
       "      <td>Tapa blanda o Bolsillo</td>\n",
       "      <td>España</td>\n",
       "      <td>Español</td>\n",
       "      <td>Español</td>\n",
       "      <td>9788416906390</td>\n",
       "      <td>26-04-2017</td>\n",
       "      <td>204.0</td>\n",
       "      <td>https://static.cegal.es/imagenes/marcadas/9788...</td>\n",
       "      <td>[Ficción moderna y contemporanea]</td>\n",
       "      <td>236</td>\n",
       "    </tr>\n",
       "    <tr>\n",
       "      <th>6</th>\n",
       "      <td>Oeste</td>\n",
       "      <td>Davies, Carys</td>\n",
       "      <td>Ediciones Destino</td>\n",
       "      <td>9788423353934</td>\n",
       "      <td>17.50</td>\n",
       "      <td>Tapa blanda o Bolsillo</td>\n",
       "      <td>España</td>\n",
       "      <td>Español</td>\n",
       "      <td>Inglés</td>\n",
       "      <td>9788423353934</td>\n",
       "      <td>05-06-2018</td>\n",
       "      <td>192.0</td>\n",
       "      <td>https://static.cegal.es/imagenes/marcadas/9788...</td>\n",
       "      <td>[Ficción moderna y contemporanea]</td>\n",
       "      <td>218</td>\n",
       "    </tr>\n",
       "    <tr>\n",
       "      <th>7</th>\n",
       "      <td>Como viboras</td>\n",
       "      <td>Cecilia Aterhortúa</td>\n",
       "      <td>ALTERA</td>\n",
       "      <td>9788416645367</td>\n",
       "      <td>NaN</td>\n",
       "      <td>Tapa blanda o Bolsillo</td>\n",
       "      <td>España</td>\n",
       "      <td>Español</td>\n",
       "      <td>Español</td>\n",
       "      <td>9788416645367</td>\n",
       "      <td>06-03-2016</td>\n",
       "      <td>378.0</td>\n",
       "      <td>https://static.cegal.es/imagenes/marcadas/9788...</td>\n",
       "      <td>[Ficción moderna y contemporanea]</td>\n",
       "      <td>7</td>\n",
       "    </tr>\n",
       "    <tr>\n",
       "      <th>8</th>\n",
       "      <td>Escritos de un viejo indecente</td>\n",
       "      <td>Bukowski, Charles</td>\n",
       "      <td>Editorial Anagrama</td>\n",
       "      <td>9788433938480</td>\n",
       "      <td>NaN</td>\n",
       "      <td>Libro electrónico</td>\n",
       "      <td>España</td>\n",
       "      <td>Español</td>\n",
       "      <td>Inglés</td>\n",
       "      <td>9788433938480</td>\n",
       "      <td>18-04-2006</td>\n",
       "      <td>216.0</td>\n",
       "      <td>https://static.cegal.es/imagenes/marcadas/9788...</td>\n",
       "      <td>[Ficción moderna y contemporanea]</td>\n",
       "      <td>0</td>\n",
       "    </tr>\n",
       "    <tr>\n",
       "      <th>9</th>\n",
       "      <td>Entre ellos</td>\n",
       "      <td>Ford, Richard</td>\n",
       "      <td>Editorial Anagrama</td>\n",
       "      <td>9788433939074</td>\n",
       "      <td>NaN</td>\n",
       "      <td>Libro electrónico</td>\n",
       "      <td>España</td>\n",
       "      <td>Español</td>\n",
       "      <td>Inglés</td>\n",
       "      <td>9788433939074</td>\n",
       "      <td>17-01-2018</td>\n",
       "      <td>168.0</td>\n",
       "      <td>https://static.cegal.es/imagenes/marcadas/9788...</td>\n",
       "      <td>[Ficción moderna y contemporanea]</td>\n",
       "      <td>0</td>\n",
       "    </tr>\n",
       "  </tbody>\n",
       "</table>\n",
       "</div>"
      ],
      "text/plain": [
       "                                      title                  author  \\\n",
       "0                          Estrellas negras    Kapuscinski, Ryszard   \n",
       "1             Locos de cine y otros relatos      Pérez Rubio, Pablo   \n",
       "2                          Pasiones romanas  Janer, Maria de la Pau   \n",
       "3               Los 7 soles de la felicidad      Sanz Cañas, Esther   \n",
       "4  Pack don Quijote + invitación al Quijote                 AA. VV.   \n",
       "5                         Confesión general      Conget, José María   \n",
       "6                                     Oeste           Davies, Carys   \n",
       "7                              Como viboras      Cecilia Aterhortúa   \n",
       "8            Escritos de un viejo indecente       Bukowski, Charles   \n",
       "9                               Entre ellos           Ford, Richard   \n",
       "\n",
       "                          publisher           isbn  price  \\\n",
       "0                Editorial Anagrama  9788433936929    NaN   \n",
       "1  Editorial la Fragua del Trovador  9788415044758    NaN   \n",
       "2                 Editorial Planeta  9788408063117  21.00   \n",
       "3                           Umbriel  9788489367920   5.95   \n",
       "4                  Lunwerg Editores  9788497851756   9.95   \n",
       "5              Editorial Pre-Textos  9788416906390  20.00   \n",
       "6                 Ediciones Destino  9788423353934  17.50   \n",
       "7                            ALTERA  9788416645367    NaN   \n",
       "8                Editorial Anagrama  9788433938480    NaN   \n",
       "9                Editorial Anagrama  9788433939074    NaN   \n",
       "\n",
       "                  binding publishing_country publishing_language  \\\n",
       "0       Libro electrónico             España             Español   \n",
       "1  Tapa blanda o Bolsillo             España             Español   \n",
       "2                 Cartoné             España             Español   \n",
       "3  Tapa blanda o Bolsillo             España             Español   \n",
       "4                 Cartoné             España             Español   \n",
       "5  Tapa blanda o Bolsillo             España             Español   \n",
       "6  Tapa blanda o Bolsillo             España             Español   \n",
       "7  Tapa blanda o Bolsillo             España             Español   \n",
       "8       Libro electrónico             España             Español   \n",
       "9       Libro electrónico             España             Español   \n",
       "\n",
       "  original_language            ean publication_date  num_pages  \\\n",
       "0            Polish  9788433936929       17-02-2016      224.0   \n",
       "1           Español  9788415044758       25-03-2017      176.0   \n",
       "2           Español  9788408063117       08-11-2005      452.0   \n",
       "3                    9788489367920       07-02-2011      288.0   \n",
       "4                    9788497851756       29-05-2007     1544.0   \n",
       "5           Español  9788416906390       26-04-2017      204.0   \n",
       "6            Inglés  9788423353934       05-06-2018      192.0   \n",
       "7           Español  9788416645367       06-03-2016      378.0   \n",
       "8            Inglés  9788433938480       18-04-2006      216.0   \n",
       "9            Inglés  9788433939074       17-01-2018      168.0   \n",
       "\n",
       "                                             img_url  \\\n",
       "0  https://static.cegal.es/imagenes/marcadas/9788...   \n",
       "1                                               None   \n",
       "2  https://static.cegal.es/imagenes/marcadas/9788...   \n",
       "3  https://static.cegal.es/imagenes/marcadas/9788...   \n",
       "4  https://static.cegal.es/imagenes/marcadas/9788...   \n",
       "5  https://static.cegal.es/imagenes/marcadas/9788...   \n",
       "6  https://static.cegal.es/imagenes/marcadas/9788...   \n",
       "7  https://static.cegal.es/imagenes/marcadas/9788...   \n",
       "8  https://static.cegal.es/imagenes/marcadas/9788...   \n",
       "9  https://static.cegal.es/imagenes/marcadas/9788...   \n",
       "\n",
       "                                                tags  bookstores_number  \n",
       "0                  [Ficción moderna y contemporanea]                  0  \n",
       "1                  [Ficción moderna y contemporanea]                  0  \n",
       "2                  [Ficción moderna y contemporanea]                  9  \n",
       "3                  [Ficción moderna y contemporanea]                  1  \n",
       "4  [Ficción moderna y contemporanea, Ficción clás...                  0  \n",
       "5                  [Ficción moderna y contemporanea]                236  \n",
       "6                  [Ficción moderna y contemporanea]                218  \n",
       "7                  [Ficción moderna y contemporanea]                  7  \n",
       "8                  [Ficción moderna y contemporanea]                  0  \n",
       "9                  [Ficción moderna y contemporanea]                  0  "
      ]
     },
     "execution_count": 143,
     "metadata": {},
     "output_type": "execute_result"
    }
   ],
   "source": [
    "df = pd.read_json(data_path, orient='records')\n",
    "df.head(10)"
   ]
  },
  {
   "cell_type": "code",
   "execution_count": 144,
   "id": "aecdce88-df1e-4319-a529-819af9876261",
   "metadata": {},
   "outputs": [
    {
     "name": "stdout",
     "output_type": "stream",
     "text": [
      "<class 'pandas.core.frame.DataFrame'>\n",
      "RangeIndex: 79986 entries, 0 to 79985\n",
      "Data columns (total 15 columns):\n",
      " #   Column               Non-Null Count  Dtype  \n",
      "---  ------               --------------  -----  \n",
      " 0   title                79986 non-null  object \n",
      " 1   author               79147 non-null  object \n",
      " 2   publisher            79986 non-null  object \n",
      " 3   isbn                 79986 non-null  int64  \n",
      " 4   price                40427 non-null  float64\n",
      " 5   binding              74949 non-null  object \n",
      " 6   publishing_country   79986 non-null  object \n",
      " 7   publishing_language  79986 non-null  object \n",
      " 8   original_language    79986 non-null  object \n",
      " 9   ean                  79986 non-null  int64  \n",
      " 10  publication_date     79986 non-null  object \n",
      " 11  num_pages            68665 non-null  float64\n",
      " 12  img_url              59203 non-null  object \n",
      " 13  tags                 79986 non-null  object \n",
      " 14  bookstores_number    79986 non-null  int64  \n",
      "dtypes: float64(2), int64(3), object(10)\n",
      "memory usage: 9.2+ MB\n"
     ]
    }
   ],
   "source": [
    "df.info()"
   ]
  },
  {
   "cell_type": "markdown",
   "id": "d88747a4-5d9b-4230-a215-72e33410c581",
   "metadata": {},
   "source": [
    "### Format data types\n",
    "Most of the columns from the dataset are related to descriptive qualities (thus, qualitative features), such as the type of binding, the publishing country or the language. Numerical features include the `price` and the `bookstores_number`.\n",
    "\n",
    "- The `isbn` column is a unique identifier and it could be an appropriate index for the dataframe, once we have checked there are no duplicates. We will convert it to string, as it is not additive, nor it represents a numeric variable.\n",
    "- The `ean` column relates to the [European Article Number](https://en.wikipedia.org/wiki/International_Article_Number) system. In 2007, a 13 digit ISBN number system was deployed, in order to match the EAN system. Thus, we would expect the ISBN column to have the same values as the EAN.\n",
    "- The `tags` column includes all tags associated with the book in the website as a list.\n",
    "- The `publication_date` is a date string with the format dd/MM/YYYY. When converting the string to timestamp, an exception is thrown for empty string values, so it's necessary to include a condition to transform empty strings to NaN."
   ]
  },
  {
   "cell_type": "code",
   "execution_count": 145,
   "id": "ba35bdf9-414e-4a36-8f99-94ad5d0fa1f9",
   "metadata": {},
   "outputs": [],
   "source": [
    "df.loc[:, 'isbn'] = df.isbn.astype('string')\n",
    "df.loc[:, 'ean'] = df.ean.astype('string')\n",
    "df.loc[:, 'publication_date'] = df.publication_date.apply(lambda x: datetime.strptime(x, '%d-%m-%Y') if x else None)"
   ]
  },
  {
   "cell_type": "code",
   "execution_count": 146,
   "id": "fb95753e-0981-461d-930c-5fdc7104e2c5",
   "metadata": {},
   "outputs": [
    {
     "name": "stdout",
     "output_type": "stream",
     "text": [
      "<class 'pandas.core.frame.DataFrame'>\n",
      "RangeIndex: 79986 entries, 0 to 79985\n",
      "Data columns (total 15 columns):\n",
      " #   Column               Non-Null Count  Dtype         \n",
      "---  ------               --------------  -----         \n",
      " 0   title                79986 non-null  object        \n",
      " 1   author               79147 non-null  object        \n",
      " 2   publisher            79986 non-null  object        \n",
      " 3   isbn                 79986 non-null  string        \n",
      " 4   price                40427 non-null  float64       \n",
      " 5   binding              74949 non-null  object        \n",
      " 6   publishing_country   79986 non-null  object        \n",
      " 7   publishing_language  79986 non-null  object        \n",
      " 8   original_language    79986 non-null  object        \n",
      " 9   ean                  79986 non-null  string        \n",
      " 10  publication_date     79058 non-null  datetime64[ns]\n",
      " 11  num_pages            68665 non-null  float64       \n",
      " 12  img_url              59203 non-null  object        \n",
      " 13  tags                 79986 non-null  object        \n",
      " 14  bookstores_number    79986 non-null  int64         \n",
      "dtypes: datetime64[ns](1), float64(2), int64(1), object(9), string(2)\n",
      "memory usage: 9.2+ MB\n"
     ]
    }
   ],
   "source": [
    "df.info()"
   ]
  },
  {
   "cell_type": "markdown",
   "id": "69a1dc48-a7ca-4597-8807-bc306a2bc8b1",
   "metadata": {},
   "source": [
    "## Exploratory data analysis\n",
    "The exploratory data analysis will start by looking at the numerical and categorical features independently, to proceed with the study of the relationships between features (correlation, etc.)."
   ]
  },
  {
   "cell_type": "code",
   "execution_count": 147,
   "id": "16ba71fc-aa1d-483e-a577-6ab35a0c0a94",
   "metadata": {},
   "outputs": [
    {
     "data": {
      "text/html": [
       "<div>\n",
       "<style scoped>\n",
       "    .dataframe tbody tr th:only-of-type {\n",
       "        vertical-align: middle;\n",
       "    }\n",
       "\n",
       "    .dataframe tbody tr th {\n",
       "        vertical-align: top;\n",
       "    }\n",
       "\n",
       "    .dataframe thead th {\n",
       "        text-align: right;\n",
       "    }\n",
       "</style>\n",
       "<table border=\"1\" class=\"dataframe\">\n",
       "  <thead>\n",
       "    <tr style=\"text-align: right;\">\n",
       "      <th></th>\n",
       "      <th>index</th>\n",
       "      <th>type</th>\n",
       "    </tr>\n",
       "  </thead>\n",
       "  <tbody>\n",
       "    <tr>\n",
       "      <th>0</th>\n",
       "      <td>title</td>\n",
       "      <td>object</td>\n",
       "    </tr>\n",
       "    <tr>\n",
       "      <th>1</th>\n",
       "      <td>author</td>\n",
       "      <td>object</td>\n",
       "    </tr>\n",
       "    <tr>\n",
       "      <th>2</th>\n",
       "      <td>publisher</td>\n",
       "      <td>object</td>\n",
       "    </tr>\n",
       "    <tr>\n",
       "      <th>3</th>\n",
       "      <td>isbn</td>\n",
       "      <td>string</td>\n",
       "    </tr>\n",
       "    <tr>\n",
       "      <th>4</th>\n",
       "      <td>price</td>\n",
       "      <td>float64</td>\n",
       "    </tr>\n",
       "  </tbody>\n",
       "</table>\n",
       "</div>"
      ],
      "text/plain": [
       "       index     type\n",
       "0      title   object\n",
       "1     author   object\n",
       "2  publisher   object\n",
       "3       isbn   string\n",
       "4      price  float64"
      ]
     },
     "execution_count": 147,
     "metadata": {},
     "output_type": "execute_result"
    }
   ],
   "source": [
    "types_df = df.dtypes.reset_index()\n",
    "types_df.rename(columns={0: \"type\"}, inplace=True)\n",
    "types_df.head()"
   ]
  },
  {
   "cell_type": "markdown",
   "id": "ce1bff0e-4945-4a3e-b71a-d3a1a7639520",
   "metadata": {},
   "source": [
    "### Univariate analysis"
   ]
  },
  {
   "cell_type": "markdown",
   "id": "7e838f08-70ff-4a4b-87dc-3be634a68eff",
   "metadata": {},
   "source": [
    "#### Numerical features\n",
    "The dataset has only 3 numerical features:\n",
    "\n",
    "- `price`\n",
    "- `num_pages`\n",
    "- `bookstores_number`\n"
   ]
  },
  {
   "cell_type": "code",
   "execution_count": 148,
   "id": "1e34c229-e039-4bfd-8e06-27d8b5d76b3d",
   "metadata": {},
   "outputs": [
    {
     "data": {
      "text/plain": [
       "['price', 'num_pages', 'bookstores_number']"
      ]
     },
     "execution_count": 148,
     "metadata": {},
     "output_type": "execute_result"
    }
   ],
   "source": [
    "quantitative_vars_df = types_df[(types_df['type']=='float64') | (types_df['type']=='int64')]\n",
    "quantitative_vars = list(quantitative_vars_df['index'].to_numpy())\n",
    "quantitative_vars"
   ]
  },
  {
   "cell_type": "code",
   "execution_count": 149,
   "id": "804f7f4d-3ca9-4570-bb61-a688dab94ca3",
   "metadata": {},
   "outputs": [
    {
     "data": {
      "text/html": [
       "<div>\n",
       "<style scoped>\n",
       "    .dataframe tbody tr th:only-of-type {\n",
       "        vertical-align: middle;\n",
       "    }\n",
       "\n",
       "    .dataframe tbody tr th {\n",
       "        vertical-align: top;\n",
       "    }\n",
       "\n",
       "    .dataframe thead th {\n",
       "        text-align: right;\n",
       "    }\n",
       "</style>\n",
       "<table border=\"1\" class=\"dataframe\">\n",
       "  <thead>\n",
       "    <tr style=\"text-align: right;\">\n",
       "      <th></th>\n",
       "      <th>price</th>\n",
       "      <th>num_pages</th>\n",
       "      <th>bookstores_number</th>\n",
       "    </tr>\n",
       "  </thead>\n",
       "  <tbody>\n",
       "    <tr>\n",
       "      <th>0</th>\n",
       "      <td>NaN</td>\n",
       "      <td>224.0</td>\n",
       "      <td>0</td>\n",
       "    </tr>\n",
       "    <tr>\n",
       "      <th>1</th>\n",
       "      <td>NaN</td>\n",
       "      <td>176.0</td>\n",
       "      <td>0</td>\n",
       "    </tr>\n",
       "    <tr>\n",
       "      <th>2</th>\n",
       "      <td>21.00</td>\n",
       "      <td>452.0</td>\n",
       "      <td>9</td>\n",
       "    </tr>\n",
       "    <tr>\n",
       "      <th>3</th>\n",
       "      <td>5.95</td>\n",
       "      <td>288.0</td>\n",
       "      <td>1</td>\n",
       "    </tr>\n",
       "    <tr>\n",
       "      <th>4</th>\n",
       "      <td>9.95</td>\n",
       "      <td>1544.0</td>\n",
       "      <td>0</td>\n",
       "    </tr>\n",
       "  </tbody>\n",
       "</table>\n",
       "</div>"
      ],
      "text/plain": [
       "   price  num_pages  bookstores_number\n",
       "0    NaN      224.0                  0\n",
       "1    NaN      176.0                  0\n",
       "2  21.00      452.0                  9\n",
       "3   5.95      288.0                  1\n",
       "4   9.95     1544.0                  0"
      ]
     },
     "execution_count": 149,
     "metadata": {},
     "output_type": "execute_result"
    }
   ],
   "source": [
    "quantitative_df = df.loc[:, quantitative_vars]\n",
    "quantitative_df.head()"
   ]
  },
  {
   "cell_type": "code",
   "execution_count": 150,
   "id": "c9ecfdcd-4a71-48c7-9aea-202570ad7621",
   "metadata": {},
   "outputs": [
    {
     "data": {
      "text/html": [
       "<div>\n",
       "<style scoped>\n",
       "    .dataframe tbody tr th:only-of-type {\n",
       "        vertical-align: middle;\n",
       "    }\n",
       "\n",
       "    .dataframe tbody tr th {\n",
       "        vertical-align: top;\n",
       "    }\n",
       "\n",
       "    .dataframe thead th {\n",
       "        text-align: right;\n",
       "    }\n",
       "</style>\n",
       "<table border=\"1\" class=\"dataframe\">\n",
       "  <thead>\n",
       "    <tr style=\"text-align: right;\">\n",
       "      <th></th>\n",
       "      <th>price</th>\n",
       "      <th>num_pages</th>\n",
       "      <th>bookstores_number</th>\n",
       "    </tr>\n",
       "  </thead>\n",
       "  <tbody>\n",
       "    <tr>\n",
       "      <th>count</th>\n",
       "      <td>40427.000000</td>\n",
       "      <td>68665.000000</td>\n",
       "      <td>79986.000000</td>\n",
       "    </tr>\n",
       "    <tr>\n",
       "      <th>mean</th>\n",
       "      <td>15.558106</td>\n",
       "      <td>284.810850</td>\n",
       "      <td>58.480722</td>\n",
       "    </tr>\n",
       "    <tr>\n",
       "      <th>std</th>\n",
       "      <td>6.497949</td>\n",
       "      <td>179.841877</td>\n",
       "      <td>92.085619</td>\n",
       "    </tr>\n",
       "    <tr>\n",
       "      <th>min</th>\n",
       "      <td>0.010000</td>\n",
       "      <td>1.000000</td>\n",
       "      <td>0.000000</td>\n",
       "    </tr>\n",
       "    <tr>\n",
       "      <th>25%</th>\n",
       "      <td>10.900000</td>\n",
       "      <td>168.000000</td>\n",
       "      <td>0.000000</td>\n",
       "    </tr>\n",
       "    <tr>\n",
       "      <th>50%</th>\n",
       "      <td>15.500000</td>\n",
       "      <td>256.000000</td>\n",
       "      <td>1.000000</td>\n",
       "    </tr>\n",
       "    <tr>\n",
       "      <th>75%</th>\n",
       "      <td>19.000000</td>\n",
       "      <td>366.000000</td>\n",
       "      <td>89.000000</td>\n",
       "    </tr>\n",
       "    <tr>\n",
       "      <th>max</th>\n",
       "      <td>106.620000</td>\n",
       "      <td>6121.000000</td>\n",
       "      <td>555.000000</td>\n",
       "    </tr>\n",
       "  </tbody>\n",
       "</table>\n",
       "</div>"
      ],
      "text/plain": [
       "              price     num_pages  bookstores_number\n",
       "count  40427.000000  68665.000000       79986.000000\n",
       "mean      15.558106    284.810850          58.480722\n",
       "std        6.497949    179.841877          92.085619\n",
       "min        0.010000      1.000000           0.000000\n",
       "25%       10.900000    168.000000           0.000000\n",
       "50%       15.500000    256.000000           1.000000\n",
       "75%       19.000000    366.000000          89.000000\n",
       "max      106.620000   6121.000000         555.000000"
      ]
     },
     "execution_count": 150,
     "metadata": {},
     "output_type": "execute_result"
    }
   ],
   "source": [
    "quantitative_df.describe()"
   ]
  },
  {
   "cell_type": "markdown",
   "id": "e40b4332-3b36-41c0-af0d-c1db35685c8d",
   "metadata": {},
   "source": [
    "A quick look at the distribution via the histogram or the percentiles shows that most of the books are not available in any library. It is useful to take a look at the `bookstores_number` distribution removing the 0 values, to find out that it is approximately centered around a mean of some 220 bookstores, with still a long tail of books available at just one bookshop.\n",
    "\n",
    "The `price` distibution is centered around 15€ with a slightly long tail towards the 100€ and the `num_pages`, around 256 pages, with a short tail of very long books. "
   ]
  },
  {
   "cell_type": "code",
   "execution_count": 159,
   "id": "b842e4d9-838f-4dea-90c7-0af848b35669",
   "metadata": {},
   "outputs": [
    {
     "data": {
      "image/png": "[encoded data removed]",
      "text/plain": [
       "<Figure size 1080x288 with 3 Axes>"
      ]
     },
     "metadata": {
      "needs_background": "light"
     },
     "output_type": "display_data"
    }
   ],
   "source": [
    "fig, axes = plt.subplots(nrows=1, ncols=3, figsize=(15, 4))\n",
    "for col, ax in zip(quantitative_vars, axes):\n",
    "    sns.histplot(quantitative_df[col], bins=30, ax=ax)\n",
    "\n",
    "plt.tight_layout() \n",
    "plt.show();"
   ]
  },
  {
   "cell_type": "code",
   "execution_count": 167,
   "id": "ea7a6dd0-2fb4-416c-8b52-9baa4ca38feb",
   "metadata": {},
   "outputs": [
    {
     "data": {
      "image/png": "[encoded data removed]",
      "text/plain": [
       "<Figure size 432x288 with 1 Axes>"
      ]
     },
     "metadata": {
      "needs_background": "light"
     },
     "output_type": "display_data"
    }
   ],
   "source": [
    "df_bookstores_number = df.loc[df['bookstores_number']>0, 'bookstores_number']\n",
    "sns.histplot(df_bookstores_number, bins=30)\n",
    "plt.title('Books available in more than 1 bookstore');"
   ]
  },
  {
   "cell_type": "markdown",
   "id": "6d5db3c7-fe7a-4286-a2fa-936e987b6c8a",
   "metadata": {},
   "source": [
    "The boxplots provide a different view into the same findings: some 'outliers' with more than 1000 pages and a standard price just below 20€. The bookstores number distribution is, of course, made of values equal or above zero."
   ]
  },
  {
   "cell_type": "code",
   "execution_count": 174,
   "id": "ebb45536-8369-406c-bcaa-1e665608ba0f",
   "metadata": {},
   "outputs": [
    {
     "data": {
      "image/png": "[encoded data removed]",
      "text/plain": [
       "<Figure size 720x360 with 3 Axes>"
      ]
     },
     "metadata": {
      "needs_background": "light"
     },
     "output_type": "display_data"
    }
   ],
   "source": [
    "fig, axes = plt.subplots(nrows=1, ncols=3, figsize=(10, 5))\n",
    "for col, ax in zip(quantitative_vars, axes):\n",
    "    sns.boxplot(data=quantitative_df[col], ax=ax)\n",
    "    ax.set_title(col)\n",
    "    \n",
    "plt.tight_layout() \n",
    "plt.show();"
   ]
  },
  {
   "cell_type": "markdown",
   "id": "64825226-158e-43b6-9d7a-e15afd70dd6b",
   "metadata": {},
   "source": [
    "#### Qualitative features\n",
    "Some of the categorical features, like `title`, `author` or `publisher`, may have a great number of different values (in the case of `title`, there could be duplicates related to different editions of the same text, such as hardcover and paperback). `isbn` and `ean`, on the other hand, are supposedly unique identifiers --it is yet to be verified that there are no duplicates of these columns in the dataset.\n",
    "\n",
    "The variables we could understand as real categorical features (belonging to a somewhat limited catalog of values) are the following:\n",
    "\n",
    "- `binding`\n",
    "- `publishing_country`\n",
    "- `publishing_language`\n",
    "- `original_language`\n",
    "- `tags`, considered individually\n"
   ]
  },
  {
   "cell_type": "code",
   "execution_count": 181,
   "id": "66152065-554d-4c1a-9283-f5ade1601e62",
   "metadata": {},
   "outputs": [
    {
     "data": {
      "text/plain": [
       "['title',\n",
       " 'author',\n",
       " 'publisher',\n",
       " 'isbn',\n",
       " 'binding',\n",
       " 'publishing_country',\n",
       " 'publishing_language',\n",
       " 'original_language',\n",
       " 'ean',\n",
       " 'img_url',\n",
       " 'tags']"
      ]
     },
     "execution_count": 181,
     "metadata": {},
     "output_type": "execute_result"
    }
   ],
   "source": [
    "qualitative_vars_df = types_df[(types_df['type']=='object') | (types_df['type']=='string')]\n",
    "qualitative_vars = list(qualitative_vars_df['index'].to_numpy())\n",
    "qualitative_vars"
   ]
  },
  {
   "cell_type": "code",
   "execution_count": 182,
   "id": "240f84cc-3dbc-4271-a20d-455b20beaea4",
   "metadata": {},
   "outputs": [
    {
     "data": {
      "text/html": [
       "<div>\n",
       "<style scoped>\n",
       "    .dataframe tbody tr th:only-of-type {\n",
       "        vertical-align: middle;\n",
       "    }\n",
       "\n",
       "    .dataframe tbody tr th {\n",
       "        vertical-align: top;\n",
       "    }\n",
       "\n",
       "    .dataframe thead th {\n",
       "        text-align: right;\n",
       "    }\n",
       "</style>\n",
       "<table border=\"1\" class=\"dataframe\">\n",
       "  <thead>\n",
       "    <tr style=\"text-align: right;\">\n",
       "      <th></th>\n",
       "      <th>title</th>\n",
       "      <th>author</th>\n",
       "      <th>publisher</th>\n",
       "      <th>isbn</th>\n",
       "      <th>binding</th>\n",
       "      <th>publishing_country</th>\n",
       "      <th>publishing_language</th>\n",
       "      <th>original_language</th>\n",
       "      <th>ean</th>\n",
       "      <th>img_url</th>\n",
       "      <th>tags</th>\n",
       "    </tr>\n",
       "  </thead>\n",
       "  <tbody>\n",
       "    <tr>\n",
       "      <th>0</th>\n",
       "      <td>Estrellas negras</td>\n",
       "      <td>Kapuscinski, Ryszard</td>\n",
       "      <td>Editorial Anagrama</td>\n",
       "      <td>9788433936929</td>\n",
       "      <td>Libro electrónico</td>\n",
       "      <td>España</td>\n",
       "      <td>Español</td>\n",
       "      <td>Polish</td>\n",
       "      <td>9788433936929</td>\n",
       "      <td>https://static.cegal.es/imagenes/marcadas/9788...</td>\n",
       "      <td>[Ficción moderna y contemporanea]</td>\n",
       "    </tr>\n",
       "    <tr>\n",
       "      <th>1</th>\n",
       "      <td>Locos de cine y otros relatos</td>\n",
       "      <td>Pérez Rubio, Pablo</td>\n",
       "      <td>Editorial la Fragua del Trovador</td>\n",
       "      <td>9788415044758</td>\n",
       "      <td>Tapa blanda o Bolsillo</td>\n",
       "      <td>España</td>\n",
       "      <td>Español</td>\n",
       "      <td>Español</td>\n",
       "      <td>9788415044758</td>\n",
       "      <td>None</td>\n",
       "      <td>[Ficción moderna y contemporanea]</td>\n",
       "    </tr>\n",
       "    <tr>\n",
       "      <th>2</th>\n",
       "      <td>Pasiones romanas</td>\n",
       "      <td>Janer, Maria de la Pau</td>\n",
       "      <td>Editorial Planeta</td>\n",
       "      <td>9788408063117</td>\n",
       "      <td>Cartoné</td>\n",
       "      <td>España</td>\n",
       "      <td>Español</td>\n",
       "      <td>Español</td>\n",
       "      <td>9788408063117</td>\n",
       "      <td>https://static.cegal.es/imagenes/marcadas/9788...</td>\n",
       "      <td>[Ficción moderna y contemporanea]</td>\n",
       "    </tr>\n",
       "    <tr>\n",
       "      <th>3</th>\n",
       "      <td>Los 7 soles de la felicidad</td>\n",
       "      <td>Sanz Cañas, Esther</td>\n",
       "      <td>Umbriel</td>\n",
       "      <td>9788489367920</td>\n",
       "      <td>Tapa blanda o Bolsillo</td>\n",
       "      <td>España</td>\n",
       "      <td>Español</td>\n",
       "      <td></td>\n",
       "      <td>9788489367920</td>\n",
       "      <td>https://static.cegal.es/imagenes/marcadas/9788...</td>\n",
       "      <td>[Ficción moderna y contemporanea]</td>\n",
       "    </tr>\n",
       "    <tr>\n",
       "      <th>4</th>\n",
       "      <td>Pack don Quijote + invitación al Quijote</td>\n",
       "      <td>AA. VV.</td>\n",
       "      <td>Lunwerg Editores</td>\n",
       "      <td>9788497851756</td>\n",
       "      <td>Cartoné</td>\n",
       "      <td>España</td>\n",
       "      <td>Español</td>\n",
       "      <td></td>\n",
       "      <td>9788497851756</td>\n",
       "      <td>https://static.cegal.es/imagenes/marcadas/9788...</td>\n",
       "      <td>[Ficción moderna y contemporanea, Ficción clás...</td>\n",
       "    </tr>\n",
       "  </tbody>\n",
       "</table>\n",
       "</div>"
      ],
      "text/plain": [
       "                                      title                  author  \\\n",
       "0                          Estrellas negras    Kapuscinski, Ryszard   \n",
       "1             Locos de cine y otros relatos      Pérez Rubio, Pablo   \n",
       "2                          Pasiones romanas  Janer, Maria de la Pau   \n",
       "3               Los 7 soles de la felicidad      Sanz Cañas, Esther   \n",
       "4  Pack don Quijote + invitación al Quijote                 AA. VV.   \n",
       "\n",
       "                          publisher           isbn                 binding  \\\n",
       "0                Editorial Anagrama  9788433936929       Libro electrónico   \n",
       "1  Editorial la Fragua del Trovador  9788415044758  Tapa blanda o Bolsillo   \n",
       "2                 Editorial Planeta  9788408063117                 Cartoné   \n",
       "3                           Umbriel  9788489367920  Tapa blanda o Bolsillo   \n",
       "4                  Lunwerg Editores  9788497851756                 Cartoné   \n",
       "\n",
       "  publishing_country publishing_language original_language            ean  \\\n",
       "0             España             Español            Polish  9788433936929   \n",
       "1             España             Español           Español  9788415044758   \n",
       "2             España             Español           Español  9788408063117   \n",
       "3             España             Español                    9788489367920   \n",
       "4             España             Español                    9788497851756   \n",
       "\n",
       "                                             img_url  \\\n",
       "0  https://static.cegal.es/imagenes/marcadas/9788...   \n",
       "1                                               None   \n",
       "2  https://static.cegal.es/imagenes/marcadas/9788...   \n",
       "3  https://static.cegal.es/imagenes/marcadas/9788...   \n",
       "4  https://static.cegal.es/imagenes/marcadas/9788...   \n",
       "\n",
       "                                                tags  \n",
       "0                  [Ficción moderna y contemporanea]  \n",
       "1                  [Ficción moderna y contemporanea]  \n",
       "2                  [Ficción moderna y contemporanea]  \n",
       "3                  [Ficción moderna y contemporanea]  \n",
       "4  [Ficción moderna y contemporanea, Ficción clás...  "
      ]
     },
     "execution_count": 182,
     "metadata": {},
     "output_type": "execute_result"
    }
   ],
   "source": [
    "qualitative_df = df[qualitative_vars]\n",
    "qualitative_df.head()"
   ]
  },
  {
   "cell_type": "markdown",
   "id": "8720a0d2-1377-4802-91b5-aa95fc7ae2c1",
   "metadata": {},
   "source": [
    "Let's study the distribution of the categorical variables:"
   ]
  },
  {
   "cell_type": "code",
   "execution_count": 190,
   "id": "e00a09a8-ef8e-47ad-a194-6b7d8c8a87d0",
   "metadata": {},
   "outputs": [
    {
     "data": {
      "text/html": [
       "<div>\n",
       "<style scoped>\n",
       "    .dataframe tbody tr th:only-of-type {\n",
       "        vertical-align: middle;\n",
       "    }\n",
       "\n",
       "    .dataframe tbody tr th {\n",
       "        vertical-align: top;\n",
       "    }\n",
       "\n",
       "    .dataframe thead th {\n",
       "        text-align: right;\n",
       "    }\n",
       "</style>\n",
       "<table border=\"1\" class=\"dataframe\">\n",
       "  <thead>\n",
       "    <tr style=\"text-align: right;\">\n",
       "      <th></th>\n",
       "      <th>binding</th>\n",
       "      <th>publishing_country</th>\n",
       "      <th>publishing_language</th>\n",
       "      <th>original_language</th>\n",
       "    </tr>\n",
       "  </thead>\n",
       "  <tbody>\n",
       "    <tr>\n",
       "      <th>0</th>\n",
       "      <td>Libro electrónico</td>\n",
       "      <td>España</td>\n",
       "      <td>Español</td>\n",
       "      <td>Polish</td>\n",
       "    </tr>\n",
       "    <tr>\n",
       "      <th>1</th>\n",
       "      <td>Tapa blanda o Bolsillo</td>\n",
       "      <td>España</td>\n",
       "      <td>Español</td>\n",
       "      <td>Español</td>\n",
       "    </tr>\n",
       "    <tr>\n",
       "      <th>2</th>\n",
       "      <td>Cartoné</td>\n",
       "      <td>España</td>\n",
       "      <td>Español</td>\n",
       "      <td>Español</td>\n",
       "    </tr>\n",
       "    <tr>\n",
       "      <th>3</th>\n",
       "      <td>Tapa blanda o Bolsillo</td>\n",
       "      <td>España</td>\n",
       "      <td>Español</td>\n",
       "      <td></td>\n",
       "    </tr>\n",
       "    <tr>\n",
       "      <th>4</th>\n",
       "      <td>Cartoné</td>\n",
       "      <td>España</td>\n",
       "      <td>Español</td>\n",
       "      <td></td>\n",
       "    </tr>\n",
       "  </tbody>\n",
       "</table>\n",
       "</div>"
      ],
      "text/plain": [
       "                  binding publishing_country publishing_language  \\\n",
       "0       Libro electrónico             España             Español   \n",
       "1  Tapa blanda o Bolsillo             España             Español   \n",
       "2                 Cartoné             España             Español   \n",
       "3  Tapa blanda o Bolsillo             España             Español   \n",
       "4                 Cartoné             España             Español   \n",
       "\n",
       "  original_language  \n",
       "0            Polish  \n",
       "1           Español  \n",
       "2           Español  \n",
       "3                    \n",
       "4                    "
      ]
     },
     "execution_count": 190,
     "metadata": {},
     "output_type": "execute_result"
    }
   ],
   "source": [
    "categorical_vars = ['binding', 'publishing_country', 'publishing_language', 'original_language']\n",
    "categorical_df = df.loc[:, categorical_vars]\n",
    "categorical_df.head()"
   ]
  },
  {
   "cell_type": "markdown",
   "id": "243cd15f-d5ed-4226-9bec-e67d0d188906",
   "metadata": {},
   "source": [
    "It is noticeable that there are no NaN values as such for these features, but all of them have occurrences with the empty string, which could be considered the None value for these features.\n",
    "\n",
    "In the case of `publishing_language` and `original_language` it is also important to notice that the top two values are 'Español' and 'Castellano', that are in fact the same language. The value 'No determinado' (unspecified) for language could also be considered a NaN."
   ]
  },
  {
   "cell_type": "code",
   "execution_count": 194,
   "id": "66e84dc9-7c16-47db-b78c-c297329a83a2",
   "metadata": {},
   "outputs": [
    {
     "name": "stdout",
     "output_type": "stream",
     "text": [
      "******** Value counts for feature: binding\n",
      "Tapa blanda o Bolsillo          46700\n",
      "Libro electrónico               16995\n",
      "Cartoné                          5690\n",
      "Libro                            2557\n",
      "                                 1902\n",
      "Libro en otro formato             507\n",
      "Archivo de audio descargable      378\n",
      "Recurso en línea                  160\n",
      "Piel / Lujo                        24\n",
      "CD-Audio                            8\n",
      "Espiral                             7\n",
      "Mapa en hojas                       4\n",
      "Folleto                             4\n",
      "Tarjetas                            2\n",
      "DVD Audio                           2\n",
      "Disco audio                         2\n",
      "Producto multisoporte               2\n",
      "Calendario                          1\n",
      "Libro de tela                       1\n",
      "Película o transparencia            1\n",
      "Material impreso variado            1\n",
      "Carpeta                             1\n",
      "Name: binding, dtype: int64\n",
      "******** Value counts for feature: publishing_country\n",
      "España                         75274\n",
      "                                4278\n",
      "Argentina                        114\n",
      "México                            89\n",
      "Perú                              50\n",
      "Francia                           29\n",
      "Colombia                          28\n",
      "Alemania                          27\n",
      "Uruguay                           24\n",
      "Cuba                              17\n",
      "Chile                             14\n",
      "Reino Unido de Gran Bretaña        7\n",
      "Guatemala                          6\n",
      "Bolivia                            6\n",
      "Venezuela                          5\n",
      "Italia                             4\n",
      "Paraguay                           3\n",
      "Dinamarca                          2\n",
      "Puerto Rico                        2\n",
      "Estonia                            1\n",
      "Etiopía                            1\n",
      "Croacia                            1\n",
      "Costa Rica                         1\n",
      "Ecuador                            1\n",
      "Estados Unidos de América          1\n",
      "Portugal                           1\n",
      "Name: publishing_country, dtype: int64\n",
      "******** Value counts for feature: publishing_language\n",
      "Español                     34967\n",
      "Castellano                  26321\n",
      "Catalán                     11578\n",
      "Inglés                       4097\n",
      "Gallego                      1336\n",
      "Vasco / Euskara               881\n",
      "Valenciano                    263\n",
      "Francés                       196\n",
      "Alemán                         92\n",
      "Portugués                      87\n",
      "Asturiano                      36\n",
      "Italiano                       32\n",
      "Turco                          25\n",
      "Aranés                         15\n",
      "Aragonés                       14\n",
      "Chino                          11\n",
      "Árabe                           6\n",
      "Ruso                            4\n",
      "                                3\n",
      "Esperanto                       3\n",
      "Búlgaro                         2\n",
      "Tamil                           2\n",
      "Holandés                        2\n",
      "Latín                           2\n",
      "No determinado                  1\n",
      "Caucásico (Otros)               1\n",
      "Inglés medio (1100-1500)        1\n",
      "Japonés                         1\n",
      "Macedonio                       1\n",
      "Lenguas varias                  1\n",
      "Polish                          1\n",
      "Húngaro                         1\n",
      "Sueco                           1\n",
      "Hindi                           1\n",
      "Marathi                         1\n",
      "Name: publishing_language, dtype: int64\n",
      "******** Value counts for feature: original_language\n",
      "                                 29311\n",
      "Español                          16268\n",
      "Castellano                       12549\n",
      "Inglés                           10947\n",
      "Francés                           2871\n",
      "                                 ...  \n",
      "Inglés antiguo (ca. 450-1100)        1\n",
      "Kurdo                                1\n",
      "Afrikaans                            1\n",
      "Iraní (Otros)                        1\n",
      "Urdu                                 1\n",
      "Name: original_language, Length: 63, dtype: int64\n"
     ]
    }
   ],
   "source": [
    "for catvar in categorical_vars:\n",
    "    print('******** Value counts for feature:', catvar)\n",
    "    print(categorical_df[catvar].value_counts())"
   ]
  },
  {
   "cell_type": "code",
   "execution_count": null,
   "id": "b1222b3d-d293-4207-9c23-b01f29b6bbf3",
   "metadata": {},
   "outputs": [],
   "source": []
  },
  {
   "cell_type": "markdown",
   "id": "e056ac0c-34c0-4e5e-9905-a94a120740c3",
   "metadata": {},
   "source": [
    "### Multivariate analysis"
   ]
  },
  {
   "cell_type": "code",
   "execution_count": 158,
   "id": "b8795061-c88e-453c-9c9e-b0aa416b8a40",
   "metadata": {},
   "outputs": [
    {
     "data": {
      "text/plain": [
       "<Figure size 936x1152 with 0 Axes>"
      ]
     },
     "metadata": {},
     "output_type": "display_data"
    },
    {
     "data": {
      "image/png": "[encoded data removed]",
      "text/plain": [
       "<Figure size 540x540 with 12 Axes>"
      ]
     },
     "metadata": {
      "needs_background": "light"
     },
     "output_type": "display_data"
    }
   ],
   "source": [
    "plt.figure(figsize=(13,16))\n",
    "sns.pairplot(quantitative_df, kind='scatter', diag_kind='hist', plot_kws={'alpha':0.3}, diag_kws={'bins':20});"
   ]
  },
  {
   "cell_type": "markdown",
   "id": "4cd462ab-d632-4d85-ba8e-1b77f873f5c0",
   "metadata": {},
   "source": [
    "### Null values\n",
    "- A few columns have NaN values in case the information is not available in the web site. That applies to `price`. \n",
    "- Other columns list an empty string (`original_language`, `publication_date`) or a 'None' (`img_url`) in case the information is not available.\n",
    "- The variable `bookstores_number` has the value 0 when the book is not available in any of the bookshops associated with the web site."
   ]
  },
  {
   "cell_type": "code",
   "execution_count": null,
   "id": "e9e7fb22-6aab-4d8d-a839-863c9c5177ca",
   "metadata": {},
   "outputs": [],
   "source": []
  }
 ],
 "metadata": {
  "kernelspec": {
   "display_name": "Python 3",
   "language": "python",
   "name": "python3"
  },
  "language_info": {
   "codemirror_mode": {
    "name": "ipython",
    "version": 3
   },
   "file_extension": ".py",
   "mimetype": "text/x-python",
   "name": "python",
   "nbconvert_exporter": "python",
   "pygments_lexer": "ipython3",
   "version": "3.9.5"
  }
 },
 "nbformat": 4,
 "nbformat_minor": 5
}
